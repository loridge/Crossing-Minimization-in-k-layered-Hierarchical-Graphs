{
 "cells": [
  {
   "cell_type": "code",
   "execution_count": null,
   "id": "eeb053a7-b2ae-4f76-97dc-37ea5a7c8fd1",
   "metadata": {},
   "outputs": [],
   "source": [
    "# experiment6.py\n",
    "print(\"does it work\")\n",
    "import json\n",
    "import time\n",
    "import numpy as np\n",
    "import pandas as pd\n",
    "import matplotlib.pyplot as plt\n",
    "import sys, os\n",
    "import pprint\n",
    "import csv\n",
    "import networkx as nx, json\n",
    "parent_dir = os.path.abspath(os.path.join(os.path.dirname(__file__), '..', ))\n",
    "\n",
    "\n",
    "if parent_dir not in sys.path:\n",
    "    sys.path.insert(0, parent_dir)\n",
    "\n",
    "from k_layered_heuristics import hybrid_2\n",
    "from k_layer_crossing import total_crossing_count_k_layer\n",
    "from k_layered import generate_k_layered_sparse_graph\n",
    "from exp_8_hybrids import (\n",
    "    BaseCutoffHybrid, \n",
    "    PermuBaryCutoffHybrid, \n",
    "    SiftingBaryCutoffHybrid, \n",
    "    PermuSiftingCutoffHybrid, \n",
    "    BarySiftingCutoffHybrid,\n",
    "    SiftingPermuCutoffHybrid,\n",
    "    BaryPermuCutoffHybrid,\n",
    ")"
   ]
  },
  {
   "cell_type": "code",
   "execution_count": null,
   "id": "cd308dba-fee6-4ca4-a365-6a265fe110a7",
   "metadata": {},
   "outputs": [],
   "source": []
  },
  {
   "cell_type": "code",
   "execution_count": null,
   "id": "9ed7436f-084b-4b52-bda8-28ca5e1a3502",
   "metadata": {},
   "outputs": [],
   "source": []
  }
 ],
 "metadata": {
  "kernelspec": {
   "display_name": "Python 3 (ipykernel)",
   "language": "python",
   "name": "python3"
  },
  "language_info": {
   "codemirror_mode": {
    "name": "ipython",
    "version": 3
   },
   "file_extension": ".py",
   "mimetype": "text/x-python",
   "name": "python",
   "nbconvert_exporter": "python",
   "pygments_lexer": "ipython3",
   "version": "3.10.14"
  }
 },
 "nbformat": 4,
 "nbformat_minor": 5
}
