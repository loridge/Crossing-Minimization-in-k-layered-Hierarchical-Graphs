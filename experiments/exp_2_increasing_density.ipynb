{
 "cells": [
  {
   "cell_type": "markdown",
   "metadata": {},
   "source": [
    "# Experiment 2: |V1| = |V2| Graphs with Increasing Density (without OPTIMAL SOLUTION)\n",
    " "
   ]
  },
  {
   "cell_type": "markdown",
   "metadata": {},
   "source": [
    "Consider bipartite graphs where |V1| = |V2|, varying edge density from 0.1 to 0.9. For each density level, generate 10 sample graphs. The number of vertices for each partition V1 ranges from 10 to 100.\n",
    "- Show results for barycenter, median, and sifting\n",
    "- No optimal solution (branch cut/permutation) yet as we are dealing with large examples which are hard to determine\n"
   ]
  },
  {
   "cell_type": "code",
   "execution_count": 2,
   "metadata": {},
   "outputs": [
    {
     "name": "stdout",
     "output_type": "stream",
     "text": [
      "The cython extension is already loaded. To reload it, use:\n",
      "  %reload_ext cython\n"
     ]
    }
   ],
   "source": [
    "# Imports \n",
    "\n",
    "import sys\n",
    "import os\n",
    "import random\n",
    "import json\n",
    "import copy\n",
    "import time\n",
    "import pandas as pd\n",
    "import numpy as np\n",
    "import networkx as nx \n",
    "import matplotlib.pyplot as plt\n",
    "from networkx.algorithms import bipartite\n",
    "from itertools import combinations, permutations\n",
    "from typing import Dict, Union, List, Set\n",
    "from concurrent.futures import ProcessPoolExecutor\n",
    "%load_ext cython"
   ]
  },
  {
   "cell_type": "code",
   "execution_count": null,
   "metadata": {},
   "outputs": [
    {
     "ename": "NameError",
     "evalue": "name '__file__' is not defined",
     "output_type": "error",
     "traceback": [
      "\u001b[1;31m---------------------------------------------------------------------------\u001b[0m",
      "\u001b[1;31mNameError\u001b[0m                                 Traceback (most recent call last)",
      "Cell \u001b[1;32mIn[3], line 2\u001b[0m\n\u001b[0;32m      1\u001b[0m \u001b[38;5;66;03m# # Get the parent directory\u001b[39;00m\n\u001b[1;32m----> 2\u001b[0m parent_dir \u001b[38;5;241m=\u001b[39m os\u001b[38;5;241m.\u001b[39mpath\u001b[38;5;241m.\u001b[39mabspath(os\u001b[38;5;241m.\u001b[39mpath\u001b[38;5;241m.\u001b[39mjoin(os\u001b[38;5;241m.\u001b[39mpath\u001b[38;5;241m.\u001b[39mdirname(\u001b[38;5;18;43m__file__\u001b[39;49m), \u001b[38;5;124m'\u001b[39m\u001b[38;5;124m..\u001b[39m\u001b[38;5;124m'\u001b[39m))\n\u001b[0;32m      3\u001b[0m \u001b[38;5;66;03m# Add the parent directory to sys.path\u001b[39;00m\n\u001b[0;32m      4\u001b[0m sys\u001b[38;5;241m.\u001b[39mpath\u001b[38;5;241m.\u001b[39minsert(\u001b[38;5;241m0\u001b[39m, parent_dir)\n",
      "\u001b[1;31mNameError\u001b[0m: name '__file__' is not defined"
     ]
    }
   ],
   "source": [
    "# # Get the parent directory\n",
    "# parent_dir = os.path.abspath(os.path.join(os.path.dirname(__file__), '..'))\n",
    "# # Add the parent directory to sys.path\n",
    "# sys.path.insert(0, parent_dir)\n",
    "\n",
    "from utility.bipartite_graph_generator import generate_bipartite_graph, visualize_bipartite_graph, count_crossings, update_positions, plot_results\n",
    "from bary_med.two_layer_barycenter import barycenter, parse_edges, median, draw_horizontal_bipartite\n",
    "# from edgedensity import generator_bip_graph\n",
    "from sifting.sifting_2 import sifting\n",
    "from sifting.crossing_function.crossing_func import cross_count\n",
    "import pandas as pd\n",
    "import networkx as nx\n",
    "import matplotlib.pyplot as plt\n",
    "from networkx.algorithms import bipartite\n",
    "import time"
   ]
  },
  {
   "cell_type": "code",
   "execution_count": null,
   "metadata": {},
   "outputs": [],
   "source": [
    "# Parameters for experimentation\n",
    "n1_values = [10] # Top-layer node counts\n",
    "n2_values = [10]  # Bottom-layer node counts\n",
    "p_values = [0.1, 0.2, 0.3, 0.4, ]  # Edge probabilities\n",
    "# p_values = [0.1]\n",
    "# Results list to store experiment outcomes\n",
    "results = []\n",
    "\n",
    "# Start the timer\n",
    "start_time = time.time()\n",
    "\n",
    "# Experiment loop\n",
    "for n1 in n1_values:\n",
    "    for n2 in n2_values:\n",
    "        for p in p_values:\n",
    "            # Generate bipartite graph\n",
    "            nodes, edges, B, top_nodes, bottom_nodes = generate_bipartite_graph(n1, n2, p)\n",
    "            # nodes, edges, B, top_nodes, bottom_nodes = generator_bip_graph(n1, n2, p)\n",
    "\n",
    "            # Calculate density, not yet bipartite\n",
    "            # density = nx.density(B)\n",
    "            density = bipartite.density(B, set(top_nodes))\n",
    "            # Visualize the graph (optional, for small graphs)\n",
    "            #visualize_bipartite_graph(B, bottom_nodes)\n",
    "            \n",
    "            # Original layout\n",
    "            pos_original = nx.bipartite_layout(B, top_nodes, align=\"horizontal\")\n",
    "            crossings_original = count_crossings(B, pos_original)\n",
    "\n",
    "            # Parse the edges into (top_node, bottom_node) tuples before passing to the barycenter function\n",
    "            parsed_edges = parse_edges(edges, top_nodes, bottom_nodes)\n",
    "            \n",
    "            # Apply Barycenter heuristic to reorder bottom nodes\n",
    "            bottom_nodes_bary = barycenter(bottom_nodes, top_nodes, parsed_edges)\n",
    "\n",
    "            #visualize_bipartite_graph(B, bottom_nodes_bary)\n",
    "\n",
    "            # Update positions: top nodes fixed, bottom nodes reordered\n",
    "            pos_barycenter = update_positions(top_nodes, bottom_nodes_bary)\n",
    "            print(\"DEBUG: pos_barycenter =>\", B, pos_barycenter)\n",
    "            crossings_barycenter = count_crossings(B, pos_barycenter)\n",
    "            \n",
    "            # Apply Median heuristic to reorder bottom nodes\n",
    "            bottom_nodes_median = median(bottom_nodes, top_nodes, parsed_edges)\n",
    "\n",
    "            # Update positions: top nodes fixed, bottom nodes reordered\n",
    "            pos_median = update_positions(top_nodes, bottom_nodes_median)\n",
    "            # print(\"POS_MEDIAN\", pos_median) \n",
    "            crossings_median = count_crossings(B, pos_median)\n",
    "\n",
    "            #visualize_bipartite_graph(B, bottom_nodes_median)\n",
    "\n",
    "            # Apply Simple Sifting heuristic to reorder bottom nodes\n",
    "            sifting_heuristic = sifting(bottom_nodes, top_nodes, edges, verbose=0, )\n",
    "\n",
    "            # draw_horizontal_bipartite(B, top_nodes, sifting_heuristic, \"After Sift Algorithm\") ## bug spotted, i also commented a code out in sifting\n",
    "            pos_sifting = update_positions(top_nodes, sifting_heuristic) # the sifting_heuristic is 1,2,3,4,5 while the previous ones have 'u1, u2,..' \n",
    "            \n",
    "            # print(\"POS_SIFTING\", pos_sifting)\n",
    "            \n",
    "            crossings_sifting = count_crossings(B, pos_sifting)\n",
    "            # crossings_sifting = cross_count(top_nodes, sifting_heuristic,edges)\n",
    "            \n",
    "            # Store results\n",
    "            results.append({\n",
    "                \"n1\": n1,\n",
    "                \"n2\": n2,\n",
    "                \"p\": p,\n",
    "                \"density\": density,\n",
    "                \"crossings_original\": crossings_original,\n",
    "                \"crossings_barycenter\": crossings_barycenter,\n",
    "                \"crossings_median\": crossings_median,\n",
    "                \"crossings_sifting\": crossings_sifting\n",
    "            })\n",
    "\n",
    "# End the timer and print the total execution time\n",
    "end_time = time.time()\n",
    "total_time = end_time - start_time\n",
    "print(f\"Total execution time: {total_time:.2f} seconds\")\n",
    "# Convert results to a DataFrame for analysis\n",
    "df = pd.DataFrame(results)\n",
    "\n",
    "# Display results\n",
    "print(df)\n",
    "\n",
    "# Save the dataframe to a CSV file\n",
    "df.to_csv('exp2_results.csv', index=False)\n",
    "\n",
    "print(\"Results saved to 'exp1_results.csv'.\")\n",
    "\n",
    "# Call the plot function after results are stored\n",
    "plot_results(df)"
   ]
  }
 ],
 "metadata": {
  "kernelspec": {
   "display_name": "Python 3",
   "language": "python",
   "name": "python3"
  },
  "language_info": {
   "codemirror_mode": {
    "name": "ipython",
    "version": 3
   },
   "file_extension": ".py",
   "mimetype": "text/x-python",
   "name": "python",
   "nbconvert_exporter": "python",
   "pygments_lexer": "ipython3",
   "version": "3.12.0"
  }
 },
 "nbformat": 4,
 "nbformat_minor": 2
}
